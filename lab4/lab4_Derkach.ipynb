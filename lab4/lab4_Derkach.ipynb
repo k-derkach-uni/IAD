{
  "nbformat": 4,
  "nbformat_minor": 0,
  "metadata": {
    "colab": {
      "provenance": []
    },
    "kernelspec": {
      "name": "python3",
      "display_name": "Python 3"
    },
    "language_info": {
      "name": "python"
    }
  },
  "cells": [
    {
      "cell_type": "code",
      "execution_count": null,
      "metadata": {
        "id": "vRvqaO5etGXc"
      },
      "outputs": [],
      "source": [
        "import tensorflow as tf\n",
        "import numpy as np\n",
        "import pandas as pd\n",
        "import matplotlib.pyplot as plt\n",
        "from sklearn.preprocessing import MinMaxScaler\n",
        "import math\n",
        "from tensorflow.keras.metrics import mean_absolute_error, mean_squared_error\n",
        "\n",
        "from tensorflow.keras.models import Sequential\n",
        "from tensorflow.keras.layers import GRU, Dense"
      ]
    },
    {
      "cell_type": "code",
      "source": [
        "df = pd.read_csv('gold.csv')\n",
        "df['<DATE>'] = pd.to_datetime(df['<DATE>'], format='%d/%m/%y')\n",
        "\n",
        "df.set_index('<DATE>', inplace=True)\n",
        "df"
      ],
      "metadata": {
        "colab": {
          "base_uri": "https://localhost:8080/",
          "height": 455
        },
        "id": "MD5MC049wx24",
        "outputId": "0d5ee81e-ea80-402b-febe-2efc15d0d22d"
      },
      "execution_count": null,
      "outputs": [
        {
          "output_type": "execute_result",
          "data": {
            "text/plain": [
              "            <TICKER> <PER>  <TIME>  <OPEN>  <HIGH>   <LOW>  <CLOSE>   <VOL>\n",
              "<DATE>                                                                     \n",
              "2020-01-01  comex.GC     D       0  1521.0  1524.0  1520.5   1521.0    5291\n",
              "2020-01-02  comex.GC     D       0  1520.9  1534.0  1519.7   1531.3  236447\n",
              "2020-01-03  comex.GC     D       0  1531.3  1556.6  1531.3   1555.2  383128\n",
              "2020-01-05  comex.GC     D       0  1562.7  1590.9  1562.3   1571.6   42728\n",
              "2020-01-06  comex.GC     D       0  1571.5  1582.5  1562.7   1565.7  452446\n",
              "...              ...   ...     ...     ...     ...     ...      ...     ...\n",
              "2022-12-27  comex.GC     D       0  1809.6  1841.9  1808.4   1820.6  152921\n",
              "2022-12-28  comex.GC     D       0  1820.5  1822.3  1804.2   1812.5  106251\n",
              "2022-12-29  comex.GC     D       0  1812.5  1827.3  1811.2   1821.9   99420\n",
              "2022-12-30  comex.GC     D       0  1822.0  1832.4  1819.8   1830.1   98621\n",
              "2023-01-02  comex.GC     D       0  1831.8  1838.0  1831.3   1835.8    4830\n",
              "\n",
              "[934 rows x 8 columns]"
            ],
            "text/html": [
              "\n",
              "  <div id=\"df-935d77da-963b-4349-923a-8b2601fa036e\">\n",
              "    <div class=\"colab-df-container\">\n",
              "      <div>\n",
              "<style scoped>\n",
              "    .dataframe tbody tr th:only-of-type {\n",
              "        vertical-align: middle;\n",
              "    }\n",
              "\n",
              "    .dataframe tbody tr th {\n",
              "        vertical-align: top;\n",
              "    }\n",
              "\n",
              "    .dataframe thead th {\n",
              "        text-align: right;\n",
              "    }\n",
              "</style>\n",
              "<table border=\"1\" class=\"dataframe\">\n",
              "  <thead>\n",
              "    <tr style=\"text-align: right;\">\n",
              "      <th></th>\n",
              "      <th>&lt;TICKER&gt;</th>\n",
              "      <th>&lt;PER&gt;</th>\n",
              "      <th>&lt;TIME&gt;</th>\n",
              "      <th>&lt;OPEN&gt;</th>\n",
              "      <th>&lt;HIGH&gt;</th>\n",
              "      <th>&lt;LOW&gt;</th>\n",
              "      <th>&lt;CLOSE&gt;</th>\n",
              "      <th>&lt;VOL&gt;</th>\n",
              "    </tr>\n",
              "    <tr>\n",
              "      <th>&lt;DATE&gt;</th>\n",
              "      <th></th>\n",
              "      <th></th>\n",
              "      <th></th>\n",
              "      <th></th>\n",
              "      <th></th>\n",
              "      <th></th>\n",
              "      <th></th>\n",
              "      <th></th>\n",
              "    </tr>\n",
              "  </thead>\n",
              "  <tbody>\n",
              "    <tr>\n",
              "      <th>2020-01-01</th>\n",
              "      <td>comex.GC</td>\n",
              "      <td>D</td>\n",
              "      <td>0</td>\n",
              "      <td>1521.0</td>\n",
              "      <td>1524.0</td>\n",
              "      <td>1520.5</td>\n",
              "      <td>1521.0</td>\n",
              "      <td>5291</td>\n",
              "    </tr>\n",
              "    <tr>\n",
              "      <th>2020-01-02</th>\n",
              "      <td>comex.GC</td>\n",
              "      <td>D</td>\n",
              "      <td>0</td>\n",
              "      <td>1520.9</td>\n",
              "      <td>1534.0</td>\n",
              "      <td>1519.7</td>\n",
              "      <td>1531.3</td>\n",
              "      <td>236447</td>\n",
              "    </tr>\n",
              "    <tr>\n",
              "      <th>2020-01-03</th>\n",
              "      <td>comex.GC</td>\n",
              "      <td>D</td>\n",
              "      <td>0</td>\n",
              "      <td>1531.3</td>\n",
              "      <td>1556.6</td>\n",
              "      <td>1531.3</td>\n",
              "      <td>1555.2</td>\n",
              "      <td>383128</td>\n",
              "    </tr>\n",
              "    <tr>\n",
              "      <th>2020-01-05</th>\n",
              "      <td>comex.GC</td>\n",
              "      <td>D</td>\n",
              "      <td>0</td>\n",
              "      <td>1562.7</td>\n",
              "      <td>1590.9</td>\n",
              "      <td>1562.3</td>\n",
              "      <td>1571.6</td>\n",
              "      <td>42728</td>\n",
              "    </tr>\n",
              "    <tr>\n",
              "      <th>2020-01-06</th>\n",
              "      <td>comex.GC</td>\n",
              "      <td>D</td>\n",
              "      <td>0</td>\n",
              "      <td>1571.5</td>\n",
              "      <td>1582.5</td>\n",
              "      <td>1562.7</td>\n",
              "      <td>1565.7</td>\n",
              "      <td>452446</td>\n",
              "    </tr>\n",
              "    <tr>\n",
              "      <th>...</th>\n",
              "      <td>...</td>\n",
              "      <td>...</td>\n",
              "      <td>...</td>\n",
              "      <td>...</td>\n",
              "      <td>...</td>\n",
              "      <td>...</td>\n",
              "      <td>...</td>\n",
              "      <td>...</td>\n",
              "    </tr>\n",
              "    <tr>\n",
              "      <th>2022-12-27</th>\n",
              "      <td>comex.GC</td>\n",
              "      <td>D</td>\n",
              "      <td>0</td>\n",
              "      <td>1809.6</td>\n",
              "      <td>1841.9</td>\n",
              "      <td>1808.4</td>\n",
              "      <td>1820.6</td>\n",
              "      <td>152921</td>\n",
              "    </tr>\n",
              "    <tr>\n",
              "      <th>2022-12-28</th>\n",
              "      <td>comex.GC</td>\n",
              "      <td>D</td>\n",
              "      <td>0</td>\n",
              "      <td>1820.5</td>\n",
              "      <td>1822.3</td>\n",
              "      <td>1804.2</td>\n",
              "      <td>1812.5</td>\n",
              "      <td>106251</td>\n",
              "    </tr>\n",
              "    <tr>\n",
              "      <th>2022-12-29</th>\n",
              "      <td>comex.GC</td>\n",
              "      <td>D</td>\n",
              "      <td>0</td>\n",
              "      <td>1812.5</td>\n",
              "      <td>1827.3</td>\n",
              "      <td>1811.2</td>\n",
              "      <td>1821.9</td>\n",
              "      <td>99420</td>\n",
              "    </tr>\n",
              "    <tr>\n",
              "      <th>2022-12-30</th>\n",
              "      <td>comex.GC</td>\n",
              "      <td>D</td>\n",
              "      <td>0</td>\n",
              "      <td>1822.0</td>\n",
              "      <td>1832.4</td>\n",
              "      <td>1819.8</td>\n",
              "      <td>1830.1</td>\n",
              "      <td>98621</td>\n",
              "    </tr>\n",
              "    <tr>\n",
              "      <th>2023-01-02</th>\n",
              "      <td>comex.GC</td>\n",
              "      <td>D</td>\n",
              "      <td>0</td>\n",
              "      <td>1831.8</td>\n",
              "      <td>1838.0</td>\n",
              "      <td>1831.3</td>\n",
              "      <td>1835.8</td>\n",
              "      <td>4830</td>\n",
              "    </tr>\n",
              "  </tbody>\n",
              "</table>\n",
              "<p>934 rows × 8 columns</p>\n",
              "</div>\n",
              "      <button class=\"colab-df-convert\" onclick=\"convertToInteractive('df-935d77da-963b-4349-923a-8b2601fa036e')\"\n",
              "              title=\"Convert this dataframe to an interactive table.\"\n",
              "              style=\"display:none;\">\n",
              "        \n",
              "  <svg xmlns=\"http://www.w3.org/2000/svg\" height=\"24px\"viewBox=\"0 0 24 24\"\n",
              "       width=\"24px\">\n",
              "    <path d=\"M0 0h24v24H0V0z\" fill=\"none\"/>\n",
              "    <path d=\"M18.56 5.44l.94 2.06.94-2.06 2.06-.94-2.06-.94-.94-2.06-.94 2.06-2.06.94zm-11 1L8.5 8.5l.94-2.06 2.06-.94-2.06-.94L8.5 2.5l-.94 2.06-2.06.94zm10 10l.94 2.06.94-2.06 2.06-.94-2.06-.94-.94-2.06-.94 2.06-2.06.94z\"/><path d=\"M17.41 7.96l-1.37-1.37c-.4-.4-.92-.59-1.43-.59-.52 0-1.04.2-1.43.59L10.3 9.45l-7.72 7.72c-.78.78-.78 2.05 0 2.83L4 21.41c.39.39.9.59 1.41.59.51 0 1.02-.2 1.41-.59l7.78-7.78 2.81-2.81c.8-.78.8-2.07 0-2.86zM5.41 20L4 18.59l7.72-7.72 1.47 1.35L5.41 20z\"/>\n",
              "  </svg>\n",
              "      </button>\n",
              "      \n",
              "  <style>\n",
              "    .colab-df-container {\n",
              "      display:flex;\n",
              "      flex-wrap:wrap;\n",
              "      gap: 12px;\n",
              "    }\n",
              "\n",
              "    .colab-df-convert {\n",
              "      background-color: #E8F0FE;\n",
              "      border: none;\n",
              "      border-radius: 50%;\n",
              "      cursor: pointer;\n",
              "      display: none;\n",
              "      fill: #1967D2;\n",
              "      height: 32px;\n",
              "      padding: 0 0 0 0;\n",
              "      width: 32px;\n",
              "    }\n",
              "\n",
              "    .colab-df-convert:hover {\n",
              "      background-color: #E2EBFA;\n",
              "      box-shadow: 0px 1px 2px rgba(60, 64, 67, 0.3), 0px 1px 3px 1px rgba(60, 64, 67, 0.15);\n",
              "      fill: #174EA6;\n",
              "    }\n",
              "\n",
              "    [theme=dark] .colab-df-convert {\n",
              "      background-color: #3B4455;\n",
              "      fill: #D2E3FC;\n",
              "    }\n",
              "\n",
              "    [theme=dark] .colab-df-convert:hover {\n",
              "      background-color: #434B5C;\n",
              "      box-shadow: 0px 1px 3px 1px rgba(0, 0, 0, 0.15);\n",
              "      filter: drop-shadow(0px 1px 2px rgba(0, 0, 0, 0.3));\n",
              "      fill: #FFFFFF;\n",
              "    }\n",
              "  </style>\n",
              "\n",
              "      <script>\n",
              "        const buttonEl =\n",
              "          document.querySelector('#df-935d77da-963b-4349-923a-8b2601fa036e button.colab-df-convert');\n",
              "        buttonEl.style.display =\n",
              "          google.colab.kernel.accessAllowed ? 'block' : 'none';\n",
              "\n",
              "        async function convertToInteractive(key) {\n",
              "          const element = document.querySelector('#df-935d77da-963b-4349-923a-8b2601fa036e');\n",
              "          const dataTable =\n",
              "            await google.colab.kernel.invokeFunction('convertToInteractive',\n",
              "                                                     [key], {});\n",
              "          if (!dataTable) return;\n",
              "\n",
              "          const docLinkHtml = 'Like what you see? Visit the ' +\n",
              "            '<a target=\"_blank\" href=https://colab.research.google.com/notebooks/data_table.ipynb>data table notebook</a>'\n",
              "            + ' to learn more about interactive tables.';\n",
              "          element.innerHTML = '';\n",
              "          dataTable['output_type'] = 'display_data';\n",
              "          await google.colab.output.renderOutput(dataTable, element);\n",
              "          const docLink = document.createElement('div');\n",
              "          docLink.innerHTML = docLinkHtml;\n",
              "          element.appendChild(docLink);\n",
              "        }\n",
              "      </script>\n",
              "    </div>\n",
              "  </div>\n",
              "  "
            ]
          },
          "metadata": {},
          "execution_count": 5
        }
      ]
    },
    {
      "cell_type": "code",
      "source": [
        "plt.figure(figsize=(9,5))\n",
        "plt.plot(df['<CLOSE>'])\n",
        "plt.xlabel('Дата')\n",
        "plt.ylabel('Цена закрытия')\n",
        "plt.show()"
      ],
      "metadata": {
        "colab": {
          "base_uri": "https://localhost:8080/",
          "height": 334
        },
        "id": "iIq2B2KJx_e9",
        "outputId": "73d257b8-d978-41f3-eb6a-e41f5ad87d1b"
      },
      "execution_count": null,
      "outputs": [
        {
          "output_type": "display_data",
          "data": {
            "text/plain": [
              "<Figure size 648x360 with 1 Axes>"
            ],
            "image/png": "[encoded data removed]"
          },
          "metadata": {
            "needs_background": "light"
          }
        }
      ]
    },
    {
      "cell_type": "code",
      "source": [
        "days = 60\n",
        "\n",
        "dff = df.filter(['<CLOSE>'])\n",
        "data = dff.values\n",
        "scaler = MinMaxScaler(feature_range=(0,1))\n",
        "scaled_data = scaler.fit_transform(data)\n",
        "\n",
        "\n",
        "train_size = math.ceil(.8 * len(data))\n",
        "train = scaled_data[:train_size, :]\n",
        "test = scaled_data[train_size-days:, :]\n",
        "\n",
        "print(scaled_data.shape,train.shape,test.shape)"
      ],
      "metadata": {
        "colab": {
          "base_uri": "https://localhost:8080/"
        },
        "id": "djqpDXqGznre",
        "outputId": "d09c020d-b7db-4db0-e4f0-0e839da715e3"
      },
      "execution_count": null,
      "outputs": [
        {
          "output_type": "stream",
          "name": "stdout",
          "text": [
            "(934, 1) (748, 1) (246, 1)\n"
          ]
        }
      ]
    },
    {
      "cell_type": "code",
      "source": [
        "x_train = [] \n",
        "y_train = []\n",
        "for i in range(days, len(train)):\n",
        "  x_train.append(train[i-days:i,0])\n",
        "  y_train.append(train[i, 0])\n",
        "\n",
        "x_test = [] \n",
        "y_test = []\n",
        "for i in range(days, len(test)):\n",
        "  x_test.append(test[i-days:i,0])\n",
        "  y_test.append(test[i, 0])\n",
        "\n",
        "x_train, y_train = np.array(x_train), np.array(y_train)\n",
        "x_test, y_test = np.array(x_test), np.array(y_test)\n",
        "\n",
        "x_train = np.reshape(x_train, (x_train.shape[0], x_train.shape[1], 1))\n",
        "x_test = np.reshape(x_test, (x_test.shape[0], x_test.shape[1], 1))\n",
        "\n",
        "x_test.shape"
      ],
      "metadata": {
        "colab": {
          "base_uri": "https://localhost:8080/"
        },
        "id": "4J0cpyboi-Fe",
        "outputId": "c2ff05f3-4afc-49fc-d8f4-1c508b3c794f"
      },
      "execution_count": null,
      "outputs": [
        {
          "output_type": "execute_result",
          "data": {
            "text/plain": [
              "(186, 60, 1)"
            ]
          },
          "metadata": {},
          "execution_count": 8
        }
      ]
    },
    {
      "cell_type": "code",
      "source": [
        "model = Sequential()\n",
        "model.add(GRU(units=50, return_sequences=True, input_shape= (x_train.shape[1],1)))\n",
        "model.add(GRU(units=25))\n",
        "\n",
        "model.add(Dense(1))\n",
        "model.compile(optimizer='adam', loss='mean_absolute_error')\n",
        "model.fit(x_train, y_train, batch_size=10, epochs=10)"
      ],
      "metadata": {
        "id": "YHszXITrp097",
        "colab": {
          "base_uri": "https://localhost:8080/"
        },
        "outputId": "cbc6de32-9018-4725-cf56-77ea76b50769"
      },
      "execution_count": null,
      "outputs": [
        {
          "output_type": "stream",
          "name": "stdout",
          "text": [
            "Epoch 1/10\n",
            "69/69 [==============================] - 9s 57ms/step - loss: 0.0979\n",
            "Epoch 2/10\n",
            "69/69 [==============================] - 4s 52ms/step - loss: 0.0353\n",
            "Epoch 3/10\n",
            "69/69 [==============================] - 3s 48ms/step - loss: 0.0289\n",
            "Epoch 4/10\n",
            "69/69 [==============================] - 3s 48ms/step - loss: 0.0260\n",
            "Epoch 5/10\n",
            "69/69 [==============================] - 3s 49ms/step - loss: 0.0255\n",
            "Epoch 6/10\n",
            "69/69 [==============================] - 3s 48ms/step - loss: 0.0240\n",
            "Epoch 7/10\n",
            "69/69 [==============================] - 3s 49ms/step - loss: 0.0247\n",
            "Epoch 8/10\n",
            "69/69 [==============================] - 3s 48ms/step - loss: 0.0245\n",
            "Epoch 9/10\n",
            "69/69 [==============================] - 3s 47ms/step - loss: 0.0238\n",
            "Epoch 10/10\n",
            "69/69 [==============================] - 3s 47ms/step - loss: 0.0229\n"
          ]
        },
        {
          "output_type": "execute_result",
          "data": {
            "text/plain": [
              "<keras.callbacks.History at 0x7fb527b5d280>"
            ]
          },
          "metadata": {},
          "execution_count": 28
        }
      ]
    },
    {
      "cell_type": "code",
      "source": [
        "pred = model.predict(x_test)\n",
        "pred = scaler.inverse_transform(pred)\n",
        "\n",
        "val = dff[-pred.size:]\n",
        "val['pred'] = pred\n",
        "\n",
        "plt.figure(figsize=(12,6))\n",
        "plt.xlabel('Дата',fontsize=20)\n",
        "plt.ylabel('Цена закрытия')\n",
        "\n",
        "plt.plot(val['pred'][:50],'-o', label='предсказания')\n",
        "plt.plot(dff['<CLOSE>'][-pred.size-15:-pred.size+50],'-o', label='факт')\n",
        "plt.legend()\n",
        "plt.show()\n",
        "\n",
        "\n",
        "model.save('model')\n",
        "model.summary()\n",
        "\n",
        "print(val.tail(3))\n",
        "print('Среднее значение ошибки:', mean_absolute_error(val['<CLOSE>'], val['pred']).numpy())"
      ],
      "metadata": {
        "colab": {
          "base_uri": "https://localhost:8080/",
          "height": 952
        },
        "id": "kFBTwALG1MtZ",
        "outputId": "57a85f2b-80e8-42d6-b17d-621fd6f6f23f"
      },
      "execution_count": null,
      "outputs": [
        {
          "output_type": "stream",
          "name": "stdout",
          "text": [
            "6/6 [==============================] - 1s 13ms/step\n"
          ]
        },
        {
          "output_type": "display_data",
          "data": {
            "text/plain": [
              "<Figure size 864x432 with 1 Axes>"
            ],
            "image/png": "[encoded data removed]"
          },
          "metadata": {
            "needs_background": "light"
          }
        },
        {
          "output_type": "stream",
          "name": "stdout",
          "text": [
            "Model: \"sequential_2\"\n",
            "_________________________________________________________________\n",
            " Layer (type)                Output Shape              Param #   \n",
            "=================================================================\n",
            " gru_4 (GRU)                 (None, 60, 50)            7950      \n",
            "                                                                 \n",
            " gru_5 (GRU)                 (None, 25)                5775      \n",
            "                                                                 \n",
            " dense_2 (Dense)             (None, 1)                 26        \n",
            "                                                                 \n",
            "=================================================================\n",
            "Total params: 13,751\n",
            "Trainable params: 13,751\n",
            "Non-trainable params: 0\n",
            "_________________________________________________________________\n",
            "            <CLOSE>         pred\n",
            "<DATE>                          \n",
            "2022-12-29   1821.9  1812.341431\n",
            "2022-12-30   1830.1  1819.005371\n",
            "2023-01-02   1835.8  1827.551514\n",
            "Среднее значение ошибки: 11.653827\n"
          ]
        }
      ]
    }
  ]
}